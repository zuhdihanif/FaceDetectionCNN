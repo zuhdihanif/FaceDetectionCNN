{
 "cells": [
  {
   "cell_type": "code",
   "execution_count": 21,
   "metadata": {},
   "outputs": [],
   "source": [
    "import zipfile\n",
    "with zipfile.ZipFile(\"ekspresinya.zip\",\"r\") as zip_ref:\n",
    "    zip_ref.extractall(\"ekspresinya\")"
   ]
  },
  {
   "cell_type": "code",
   "execution_count": 2,
   "metadata": {},
   "outputs": [],
   "source": [
    "x = []\n",
    "y = []"
   ]
  },
  {
   "cell_type": "code",
   "execution_count": 3,
   "metadata": {},
   "outputs": [],
   "source": [
    "import glob\n",
    "import cv2\n",
    "import random\n",
    "import numpy as np"
   ]
  },
  {
   "cell_type": "code",
   "execution_count": 4,
   "metadata": {},
   "outputs": [],
   "source": [
    "# input image through path\n",
    "for alamat_gambar in glob.glob(\"ekspresinya/ekspresinya/kaget/*.jpg\"):\n",
    "  gambar = cv2.imread(alamat_gambar)\n",
    "  gambar = cv2.resize(gambar, (200, 200))/255\n",
    "  x.append(gambar)\n",
    "  y.append(0)\n",
    "\n",
    "for alamat_gambar in glob.glob(\"ekspresinya/ekspresinya/marah/*.jpg\"):\n",
    "  gambar = cv2.imread(alamat_gambar)\n",
    "  gambar = cv2.resize(gambar, (200, 200))/255\n",
    "  x.append(gambar)\n",
    "  y.append(1)\n",
    "\n",
    "for alamat_gambar in glob.glob(\"ekspresinya/ekspresinya/sedih/*.jpg\"):\n",
    "  gambar = cv2.imread(alamat_gambar)\n",
    "  gambar = cv2.resize(gambar, (200, 200))/255\n",
    "  x.append(gambar)\n",
    "  y.append(2)\n",
    "\n",
    "for alamat_gambar in glob.glob(\"ekspresinya/ekspresinya/senang/*.jpg\"):\n",
    "  gambar = cv2.imread(alamat_gambar)\n",
    "  gambar = cv2.resize(gambar, (200, 200))/255\n",
    "  x.append(gambar)\n",
    "  y.append(3)\n",
    "\n",
    "for alamat_gambar in glob.glob(\"ekspresinya/ekspresinya/takut/*.jpg\"):\n",
    "  gambar = cv2.imread(alamat_gambar)\n",
    "  gambar = cv2.resize(gambar, (200, 200))/255\n",
    "  x.append(gambar)\n",
    "  y.append(4)\n",
    "\n"
   ]
  },
  {
   "cell_type": "code",
   "execution_count": 5,
   "metadata": {},
   "outputs": [],
   "source": [
    "z = list(zip(x, y))\n",
    "random.shuffle(z)\n",
    "x, y = zip(*z)\n",
    "x = np.asarray(x)\n",
    "y = np.asarray(y)"
   ]
  },
  {
   "cell_type": "code",
   "execution_count": 6,
   "metadata": {},
   "outputs": [
    {
     "name": "stdout",
     "output_type": "stream",
     "text": [
      "Model: \"sequential\"\n",
      "_________________________________________________________________\n",
      " Layer (type)                Output Shape              Param #   \n",
      "=================================================================\n",
      " conv2d (Conv2D)             (None, 200, 200, 32)      2432      \n",
      "                                                                 \n",
      " max_pooling2d (MaxPooling2D  (None, 100, 100, 32)     0         \n",
      " )                                                               \n",
      "                                                                 \n",
      " conv2d_1 (Conv2D)           (None, 96, 96, 48)        38448     \n",
      "                                                                 \n",
      " max_pooling2d_1 (MaxPooling  (None, 48, 48, 48)       0         \n",
      " 2D)                                                             \n",
      "                                                                 \n",
      " flatten (Flatten)           (None, 110592)            0         \n",
      "                                                                 \n",
      " dense (Dense)               (None, 256)               28311808  \n",
      "                                                                 \n",
      " dense_1 (Dense)             (None, 84)                21588     \n",
      "                                                                 \n",
      " dense_2 (Dense)             (None, 10)                850       \n",
      "                                                                 \n",
      "=================================================================\n",
      "Total params: 28,375,126\n",
      "Trainable params: 28,375,126\n",
      "Non-trainable params: 0\n",
      "_________________________________________________________________\n"
     ]
    }
   ],
   "source": [
    "#CNN architecture\n",
    "from keras.models import Sequential\n",
    "from keras.layers import Conv2D, MaxPooling2D, Flatten, Dense\n",
    "\n",
    "model = Sequential()\n",
    "model.add(Conv2D(filters=32, kernel_size=(5,5), padding='same', activation='relu', input_shape=x.shape[1:]))\n",
    "model.add(MaxPooling2D(strides=2))\n",
    "model.add(Conv2D(filters=48, kernel_size=(5,5), padding='valid', activation='relu'))\n",
    "model.add(MaxPooling2D(strides=2))\n",
    "model.add(Flatten())\n",
    "model.add(Dense(256, activation='relu'))\n",
    "model.add(Dense(84, activation='relu'))\n",
    "model.add(Dense(10, activation='softmax'))\n",
    "\n",
    "model.compile(optimizer='adam', loss='sparse_categorical_crossentropy', metrics=['accuracy'])\n",
    "model.summary()"
   ]
  },
  {
   "cell_type": "code",
   "execution_count": null,
   "metadata": {},
   "outputs": [],
   "source": [
    "#model train\n",
    "model.fit(x, y, batch_size=5, epochs=10, validation_split=0.15)"
   ]
  },
  {
   "cell_type": "code",
   "execution_count": null,
   "metadata": {},
   "outputs": [
    {
     "name": "stdout",
     "output_type": "stream",
     "text": [
      "1/1 [==============================] - 0s 107ms/step\n"
     ]
    },
    {
     "data": {
      "text/plain": [
       "['51-60']"
      ]
     },
     "execution_count": 10,
     "metadata": {},
     "output_type": "execute_result"
    }
   ],
   "source": [
    "#creating classes to predict image\n",
    "kamus = {0: \"0-5\", 1: \"6-10\", 2: \"11-15\", 3:\"16-20\", 4:\"21-25\", 5:\"26-30\", 6:\"31-40\", 7:\"41-50\", 8:\"51-60\", 9:\">60\"}\n",
    "\n",
    "x_test = []\n",
    "\n",
    "ini = cv2.resize(cv2.imread(\"test/WhatsApp Image 2023-01-08 at 22.57.42.jpg\"), (200, 200))/255\n",
    "x_test.append(ini)\n",
    "\n",
    "x_test = np.asarray(x_test)\n",
    "\n",
    "y_pred = model.predict(x_test)\n",
    "y_pred = np.argmax(y_pred, axis=1)\n",
    "[kamus[_] for _ in y_pred]"
   ]
  },
  {
   "cell_type": "code",
   "execution_count": null,
   "metadata": {},
   "outputs": [
    {
     "name": "stderr",
     "output_type": "stream",
     "text": [
      "WARNING:absl:Found untraced functions such as _jit_compiled_convolution_op, _jit_compiled_convolution_op, _update_step_xla while saving (showing 3 of 3). These functions will not be directly callable after loading.\n"
     ]
    },
    {
     "name": "stdout",
     "output_type": "stream",
     "text": [
      "INFO:tensorflow:Assets written to: age.model\\assets\n"
     ]
    },
    {
     "name": "stderr",
     "output_type": "stream",
     "text": [
      "INFO:tensorflow:Assets written to: age.model\\assets\n"
     ]
    }
   ],
   "source": [
    "#save model\n",
    "model.save('age.model')"
   ]
  }
 ],
 "metadata": {
  "kernelspec": {
   "display_name": "opencv-env",
   "language": "python",
   "name": "python3"
  },
  "language_info": {
   "codemirror_mode": {
    "name": "ipython",
    "version": 3
   },
   "file_extension": ".py",
   "mimetype": "text/x-python",
   "name": "python",
   "nbconvert_exporter": "python",
   "pygments_lexer": "ipython3",
   "version": "3.10.5"
  },
  "orig_nbformat": 4,
  "vscode": {
   "interpreter": {
    "hash": "3770fde709983dcfa19c7f5d603a4d20143aadb2c4ed2f9ee3ef30d7a7293147"
   }
  }
 },
 "nbformat": 4,
 "nbformat_minor": 2
}
