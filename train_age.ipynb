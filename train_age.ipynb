{
 "cells": [
  {
   "cell_type": "code",
   "execution_count": 1,
   "metadata": {},
   "outputs": [],
   "source": [
    "import zipfile\n",
    "with zipfile.ZipFile(\"age_1.zip\",\"r\") as zip_ref:\n",
    "    zip_ref.extractall(\"age_1\")"
   ]
  },
  {
   "cell_type": "code",
   "execution_count": 2,
   "metadata": {},
   "outputs": [],
   "source": [
    "x = []\n",
    "y = []"
   ]
  },
  {
   "cell_type": "code",
   "execution_count": 3,
   "metadata": {},
   "outputs": [],
   "source": [
    "import glob\n",
    "import cv2\n",
    "import random\n",
    "import numpy as np"
   ]
  },
  {
   "cell_type": "code",
   "execution_count": 4,
   "metadata": {},
   "outputs": [],
   "source": [
    "#input image through path\n",
    "for alamat_gambar in glob.glob(\"age_1/0/*.png\"):\n",
    "  gambar = cv2.imread(alamat_gambar)\n",
    "  gambar = cv2.resize(gambar, (200, 200))/255\n",
    "  x.append(gambar)\n",
    "  y.append(0)\n",
    "\n",
    "for alamat_gambar in glob.glob(\"age_1/1/*.png\"):\n",
    "  gambar = cv2.imread(alamat_gambar)\n",
    "  gambar = cv2.resize(gambar, (200, 200))/255\n",
    "  x.append(gambar)\n",
    "  y.append(7.5)\n",
    "\n",
    "for alamat_gambar in glob.glob(\"age_1/2/*.png\"):\n",
    "  gambar = cv2.imread(alamat_gambar)\n",
    "  gambar = cv2.resize(gambar, (200, 200))/255\n",
    "  x.append(gambar)\n",
    "  y.append(12.5)\n",
    "\n",
    "for alamat_gambar in glob.glob(\"age_1/3/*.png\"):\n",
    "  gambar = cv2.imread(alamat_gambar)\n",
    "  gambar = cv2.resize(gambar, (200, 200))/255\n",
    "  x.append(gambar)\n",
    "  y.append(17.5)\n",
    "\n",
    "for alamat_gambar in glob.glob(\"age_1/4/*.png\"):\n",
    "  gambar = cv2.imread(alamat_gambar)\n",
    "  gambar = cv2.resize(gambar, (200, 200))/255\n",
    "  x.append(gambar)\n",
    "  y.append(4)\n",
    "\n",
    "for alamat_gambar in glob.glob(\"age_1/5/*.png\"):\n",
    "  gambar = cv2.imread(alamat_gambar)\n",
    "  gambar = cv2.resize(gambar, (200, 200))/255\n",
    "  x.append(gambar)\n",
    "  y.append(5)\n",
    "\n",
    "for alamat_gambar in glob.glob(\"age_1/6/*.png\"):\n",
    "  gambar = cv2.imread(alamat_gambar)\n",
    "  gambar = cv2.resize(gambar, (200, 200))/255\n",
    "  x.append(gambar)\n",
    "  y.append(6)\n",
    "\n",
    "for alamat_gambar in glob.glob(\"age_1/7/*.png\"):\n",
    "  gambar = cv2.imread(alamat_gambar)\n",
    "  gambar = cv2.resize(gambar, (200, 200))/255\n",
    "  x.append(gambar)\n",
    "  y.append(7)\n",
    "\n",
    "for alamat_gambar in glob.glob(\"age_1/8/*.png\"):\n",
    "  gambar = cv2.imread(alamat_gambar)\n",
    "  gambar = cv2.resize(gambar, (200, 200))/255\n",
    "  x.append(gambar)\n",
    "  y.append(8)\n",
    "\n",
    "for alamat_gambar in glob.glob(\"age_1/9/*.png\"):\n",
    "  gambar = cv2.imread(alamat_gambar)\n",
    "  gambar = cv2.resize(gambar, (200, 200))/255\n",
    "  x.append(gambar)\n",
    "  y.append(9)\n",
    "\n"
   ]
  },
  {
   "cell_type": "code",
   "execution_count": 5,
   "metadata": {},
   "outputs": [],
   "source": [
    "z = list(zip(x, y))\n",
    "random.shuffle(z)\n",
    "x, y = zip(*z)\n",
    "x = np.asarray(x)\n",
    "y = np.asarray(y)"
   ]
  },
  {
   "cell_type": "code",
   "execution_count": 9,
   "metadata": {},
   "outputs": [
    {
     "name": "stdout",
     "output_type": "stream",
     "text": [
      "Model: \"sequential_1\"\n",
      "_________________________________________________________________\n",
      " Layer (type)                Output Shape              Param #   \n",
      "=================================================================\n",
      " conv2d_2 (Conv2D)           (None, 200, 200, 32)      2432      \n",
      "                                                                 \n",
      " max_pooling2d_2 (MaxPooling  (None, 100, 100, 32)     0         \n",
      " 2D)                                                             \n",
      "                                                                 \n",
      " conv2d_3 (Conv2D)           (None, 96, 96, 48)        38448     \n",
      "                                                                 \n",
      " max_pooling2d_3 (MaxPooling  (None, 48, 48, 48)       0         \n",
      " 2D)                                                             \n",
      "                                                                 \n",
      " flatten_1 (Flatten)         (None, 110592)            0         \n",
      "                                                                 \n",
      " dense_3 (Dense)             (None, 256)               28311808  \n",
      "                                                                 \n",
      " dense_4 (Dense)             (None, 84)                21588     \n",
      "                                                                 \n",
      " dense_5 (Dense)             (None, 10)                850       \n",
      "                                                                 \n",
      "=================================================================\n",
      "Total params: 28,375,126\n",
      "Trainable params: 28,375,126\n",
      "Non-trainable params: 0\n",
      "_________________________________________________________________\n"
     ]
    }
   ],
   "source": [
    "#CNN architecture\n",
    "from keras.models import Sequential\n",
    "from keras.layers import Conv2D, MaxPooling2D, Flatten, Dense\n",
    "\n",
    "model = Sequential()\n",
    "model.add(Conv2D(filters=32, kernel_size=(5,5), padding='same', activation='relu', input_shape=x.shape[1:]))\n",
    "model.add(MaxPooling2D(strides=2))\n",
    "model.add(Conv2D(filters=48, kernel_size=(5,5), padding='valid', activation='relu'))\n",
    "model.add(MaxPooling2D(strides=2))\n",
    "model.add(Flatten())\n",
    "model.add(Dense(256, activation='relu'))\n",
    "model.add(Dense(84, activation='relu'))\n",
    "model.add(Dense(10, activation='linear'))\n",
    "\n",
    "model.compile(optimizer='adam', loss='mse', metrics=['accuracy'])\n",
    "model.summary()"
   ]
  },
  {
   "cell_type": "code",
   "execution_count": null,
   "metadata": {},
   "outputs": [],
   "source": [
    "#model train\n",
    "model.fit(x, y, batch_size=5, epochs=10, validation_split=0.2)"
   ]
  },
  {
   "cell_type": "code",
   "execution_count": 11,
   "metadata": {},
   "outputs": [
    {
     "name": "stderr",
     "output_type": "stream",
     "text": [
      "WARNING:absl:Found untraced functions such as _jit_compiled_convolution_op, _jit_compiled_convolution_op, _update_step_xla while saving (showing 3 of 3). These functions will not be directly callable after loading.\n"
     ]
    },
    {
     "name": "stdout",
     "output_type": "stream",
     "text": [
      "INFO:tensorflow:Assets written to: age.model\\assets\n"
     ]
    },
    {
     "name": "stderr",
     "output_type": "stream",
     "text": [
      "INFO:tensorflow:Assets written to: age.model\\assets\n"
     ]
    }
   ],
   "source": [
    "model.save('age.model')"
   ]
  }
 ],
 "metadata": {
  "kernelspec": {
   "display_name": "Python 3",
   "language": "python",
   "name": "python3"
  },
  "language_info": {
   "codemirror_mode": {
    "name": "ipython",
    "version": 3
   },
   "file_extension": ".py",
   "mimetype": "text/x-python",
   "name": "python",
   "nbconvert_exporter": "python",
   "pygments_lexer": "ipython3",
   "version": "3.10.5 (tags/v3.10.5:f377153, Jun  6 2022, 16:14:13) [MSC v.1929 64 bit (AMD64)]"
  },
  "orig_nbformat": 4,
  "vscode": {
   "interpreter": {
    "hash": "200906ec546c6da6e7764154d80dfd2bc95591ea8113f42d8241532de863aa6f"
   }
  }
 },
 "nbformat": 4,
 "nbformat_minor": 2
}
